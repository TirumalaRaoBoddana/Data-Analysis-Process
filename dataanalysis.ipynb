{
 "cells": [
  {
   "cell_type": "markdown",
   "id": "86e33871-74ca-4a14-b869-f614b757402f",
   "metadata": {},
   "source": [
    "# Data Analysis"
   ]
  },
  {
   "cell_type": "markdown",
   "id": "bf9dc400-c313-440c-b2a9-e7e6a8e3b238",
   "metadata": {},
   "source": [
    "### Data analysis is the process of inspecting, cleansing, transforming, and modeling data with the goal of discovering useful information, informing conclusions, and supporting decision-making."
   ]
  },
  {
   "cell_type": "markdown",
   "id": "12d7af27-948c-426f-9cd3-783378093263",
   "metadata": {},
   "source": [
    "# Data analysis process consists of 5 steps.they are:\n",
    "- ### Asking questions\n",
    "- ### Data Wrangling/munging\n",
    "- ### Exploratory Data analysis\n",
    "- ### drawing conclusions\n",
    "- ### Communicating results"
   ]
  },
  {
   "cell_type": "markdown",
   "id": "64c46d59-cc31-40eb-a5c6-8862dae9b79f",
   "metadata": {},
   "source": [
    "## 1)Asking Questions"
   ]
  },
  {
   "cell_type": "markdown",
   "id": "711a360e-5a64-4e6b-bf88-d48123112933",
   "metadata": {},
   "source": [
    "### In the data analysis process, asking the right questions is critical for guiding the entire workflow. Here are the some questions that we can ask before proceeding to the data wrangling process"
   ]
  },
  {
   "cell_type": "markdown",
   "id": "db3fc1d8-5c25-4ce6-89bc-efea1567d6e5",
   "metadata": {},
   "source": [
    "- What features will contribute to my analysis?\n",
    "- what features are not important to my analysis?\n",
    "- which of the features have the strong correlation?\n",
    "- Do i need data preprocessing?\n",
    "- what kind of feature Engineering is required?"
   ]
  },
  {
   "cell_type": "markdown",
   "id": "30e41664-90a2-4f7a-b816-6f49cc8652b2",
   "metadata": {},
   "source": [
    "## How can i ask better questions?"
   ]
  },
  {
   "cell_type": "markdown",
   "id": "84c0bf1c-2b6f-49e8-b8c2-a022d36612ab",
   "metadata": {},
   "source": [
    "### it will dependent on the Subject Matter Expertise and Experience"
   ]
  },
  {
   "cell_type": "markdown",
   "id": "7c9838d1-e6e3-4170-a774-d4a2640a6ce4",
   "metadata": {},
   "source": [
    "## 2)Data Wrangling"
   ]
  },
  {
   "cell_type": "markdown",
   "id": "5a024642-3751-4f49-a748-e34b308bb217",
   "metadata": {},
   "source": [
    "### Data wrangling, also known as data cleaning or data preprocessing, is the process of transforming raw data into a more useful and structured format for analysis. It’s a crucial step in the data analysis process because raw data often comes with various issues that need to be resolved before it can be effectively analyzed. Here’s a breakdown of what data wrangling involves:"
   ]
  },
  {
   "cell_type": "markdown",
   "id": "42c21744-0340-405e-812e-8a7afb1facc1",
   "metadata": {},
   "source": [
    "- Gathering Data\n",
    "- Assessing the data\n",
    "- Cleaning Data"
   ]
  },
  {
   "cell_type": "markdown",
   "id": "df053082-8ac1-45a7-a385-79d3dfcb65af",
   "metadata": {},
   "source": [
    "### 2a)Gathering Data:"
   ]
  },
  {
   "cell_type": "markdown",
   "id": "5758bf26-e0fd-4097-bb8a-6a53266a2c4f",
   "metadata": {},
   "source": [
    "### Gathering data, also known as data collection, is the first step in the data analysis process. It involves sourcing and acquiring the necessary data needed to answer specific research questions, solve problems, or inform decision-making.The data can be gathered from multiple sources they are:\n",
    "- Csv files\n",
    "- API\n",
    "- Web Scraping\n",
    "- Database"
   ]
  },
  {
   "cell_type": "markdown",
   "id": "d3f7ef8e-3f2c-4c13-ad06-3c299eda7553",
   "metadata": {},
   "source": [
    "## 2b)Assessing Data:"
   ]
  },
  {
   "cell_type": "markdown",
   "id": "81a9bfc7-d20b-4186-8294-93b67bc2caaa",
   "metadata": {},
   "source": [
    "### Assessing data in the data analysis process involves evaluating the quality, reliability, and suitability of the data for your specific analysis goals. This step is critical because high-quality data leads to more accurate and actionable insights.It consists of the understanding the overview of the data\n",
    "- Finding the no.of rows and columns(shape of the dataframe)\n",
    "- data types of various columns(dtypes)\n",
    "- checking for missing values(info() and isnull())\n",
    "- checking for duplicate values(is_unique())\n",
    "- memory occupied by the dataset(info())\n",
    "- High level mathematical overview of the dataset (describe())"
   ]
  },
  {
   "cell_type": "markdown",
   "id": "e58755f0-a9e1-4d45-b629-a74ea2536a72",
   "metadata": {},
   "source": [
    "## 2c) Data Cleaning"
   ]
  },
  {
   "cell_type": "markdown",
   "id": "9fb4a02b-c209-40c4-867f-81ec2966be82",
   "metadata": {},
   "source": [
    "### Data cleaning is a crucial step in the data analysis process, focused on identifying and rectifying issues within a dataset to ensure its quality and reliability. The goal of data cleaning is to prepare raw data so it is consistent, accurate, and ready for analysis.\n",
    "- Missing Data\n",
    "- remove duplicate data(drop_duplicates())\n",
    "- incorrect data types(astype())"
   ]
  },
  {
   "cell_type": "markdown",
   "id": "5af64435-6c3c-456b-9f71-c4bf8bd4fa46",
   "metadata": {},
   "source": [
    "## 3)Exploratory Data Analysis(EDA):"
   ]
  },
  {
   "cell_type": "markdown",
   "id": "293e4623-6a82-4f97-baf9-01d3d7295b6f",
   "metadata": {},
   "source": [
    "#### Exploratory Data Analysis (EDA) is a critical step in the data analysis process that involves investigating and understanding the dataset before applying more advanced modeling techniques. The goal of EDA is to uncover patterns, spot anomaliles, test hypotheses, and check assumptions using visualizations and statistical techniques. Here's a breakdown of what EDA involves:\n",
    "- #### Understanding the dataset\n",
    "- #### Data visualization\n",
    "- #### univariate analysis\n",
    "- #### bivariate analysis\n",
    "- #### multivariate analysis\n",
    "- #### Identifying patterns and trends\n",
    "- #### detecting outliers and anamolies\n",
    "- #### checking for missing data\n",
    "- #### Feature Engineering"
   ]
  },
  {
   "cell_type": "code",
   "execution_count": null,
   "id": "49df6e5e-98d1-49c8-8b75-8a09b57f037d",
   "metadata": {},
   "outputs": [],
   "source": []
  }
 ],
 "metadata": {
  "kernelspec": {
   "display_name": "Python 3 (ipykernel)",
   "language": "python",
   "name": "python3"
  },
  "language_info": {
   "codemirror_mode": {
    "name": "ipython",
    "version": 3
   },
   "file_extension": ".py",
   "mimetype": "text/x-python",
   "name": "python",
   "nbconvert_exporter": "python",
   "pygments_lexer": "ipython3",
   "version": "3.12.4"
  }
 },
 "nbformat": 4,
 "nbformat_minor": 5
}
